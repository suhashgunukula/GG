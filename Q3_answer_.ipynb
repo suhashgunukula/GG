{
  "nbformat": 4,
  "nbformat_minor": 0,
  "metadata": {
    "colab": {
      "provenance": []
    },
    "kernelspec": {
      "name": "python3",
      "display_name": "Python 3"
    },
    "language_info": {
      "name": "python"
    }
  },
  "cells": [
    {
      "cell_type": "markdown",
      "source": [
        "Importing Libraries"
      ],
      "metadata": {
        "id": "LgOD2zFIlTMg"
      }
    },
    {
      "cell_type": "code",
      "execution_count": 1,
      "metadata": {
        "id": "AOgMJoD_SfQR"
      },
      "outputs": [],
      "source": [
        "import numpy as np\n",
        "import matplotlib.pyplot as plt\n",
        "import pandas as pd"
      ]
    },
    {
      "cell_type": "markdown",
      "source": [
        "Imporing data"
      ],
      "metadata": {
        "id": "7XRzMPiIlhCE"
      }
    },
    {
      "cell_type": "code",
      "source": [
        "dataset = pd.read_csv(\"/content/Q3_Sikka data.csv\")\n",
        "dataset.head(5)"
      ],
      "metadata": {
        "colab": {
          "base_uri": "https://localhost:8080/",
          "height": 206
        },
        "id": "CCS3kA8wS04C",
        "outputId": "884223f4-d14d-48b1-89a1-df6f7642c612"
      },
      "execution_count": 2,
      "outputs": [
        {
          "output_type": "execute_result",
          "data": {
            "text/plain": [
              "         Date    DAU  Installs  Uninstalls  Signups  Referrals\n",
              "0  2022-10-01  24071      6630        6994     3511      962.0\n",
              "1  2022-10-02  23548      6366        6669     3387      941.0\n",
              "2  2022-10-03  24572      6936        6899     3654      940.0\n",
              "3  2022-10-04  24212      6561        6766     3532      960.0\n",
              "4  2022-10-05  23247      6059        6402     3315      923.0"
            ],
            "text/html": [
              "\n",
              "  <div id=\"df-f76ff8cc-e708-41ac-8a97-3bf289af0ef9\">\n",
              "    <div class=\"colab-df-container\">\n",
              "      <div>\n",
              "<style scoped>\n",
              "    .dataframe tbody tr th:only-of-type {\n",
              "        vertical-align: middle;\n",
              "    }\n",
              "\n",
              "    .dataframe tbody tr th {\n",
              "        vertical-align: top;\n",
              "    }\n",
              "\n",
              "    .dataframe thead th {\n",
              "        text-align: right;\n",
              "    }\n",
              "</style>\n",
              "<table border=\"1\" class=\"dataframe\">\n",
              "  <thead>\n",
              "    <tr style=\"text-align: right;\">\n",
              "      <th></th>\n",
              "      <th>Date</th>\n",
              "      <th>DAU</th>\n",
              "      <th>Installs</th>\n",
              "      <th>Uninstalls</th>\n",
              "      <th>Signups</th>\n",
              "      <th>Referrals</th>\n",
              "    </tr>\n",
              "  </thead>\n",
              "  <tbody>\n",
              "    <tr>\n",
              "      <th>0</th>\n",
              "      <td>2022-10-01</td>\n",
              "      <td>24071</td>\n",
              "      <td>6630</td>\n",
              "      <td>6994</td>\n",
              "      <td>3511</td>\n",
              "      <td>962.0</td>\n",
              "    </tr>\n",
              "    <tr>\n",
              "      <th>1</th>\n",
              "      <td>2022-10-02</td>\n",
              "      <td>23548</td>\n",
              "      <td>6366</td>\n",
              "      <td>6669</td>\n",
              "      <td>3387</td>\n",
              "      <td>941.0</td>\n",
              "    </tr>\n",
              "    <tr>\n",
              "      <th>2</th>\n",
              "      <td>2022-10-03</td>\n",
              "      <td>24572</td>\n",
              "      <td>6936</td>\n",
              "      <td>6899</td>\n",
              "      <td>3654</td>\n",
              "      <td>940.0</td>\n",
              "    </tr>\n",
              "    <tr>\n",
              "      <th>3</th>\n",
              "      <td>2022-10-04</td>\n",
              "      <td>24212</td>\n",
              "      <td>6561</td>\n",
              "      <td>6766</td>\n",
              "      <td>3532</td>\n",
              "      <td>960.0</td>\n",
              "    </tr>\n",
              "    <tr>\n",
              "      <th>4</th>\n",
              "      <td>2022-10-05</td>\n",
              "      <td>23247</td>\n",
              "      <td>6059</td>\n",
              "      <td>6402</td>\n",
              "      <td>3315</td>\n",
              "      <td>923.0</td>\n",
              "    </tr>\n",
              "  </tbody>\n",
              "</table>\n",
              "</div>\n",
              "      <button class=\"colab-df-convert\" onclick=\"convertToInteractive('df-f76ff8cc-e708-41ac-8a97-3bf289af0ef9')\"\n",
              "              title=\"Convert this dataframe to an interactive table.\"\n",
              "              style=\"display:none;\">\n",
              "        \n",
              "  <svg xmlns=\"http://www.w3.org/2000/svg\" height=\"24px\"viewBox=\"0 0 24 24\"\n",
              "       width=\"24px\">\n",
              "    <path d=\"M0 0h24v24H0V0z\" fill=\"none\"/>\n",
              "    <path d=\"M18.56 5.44l.94 2.06.94-2.06 2.06-.94-2.06-.94-.94-2.06-.94 2.06-2.06.94zm-11 1L8.5 8.5l.94-2.06 2.06-.94-2.06-.94L8.5 2.5l-.94 2.06-2.06.94zm10 10l.94 2.06.94-2.06 2.06-.94-2.06-.94-.94-2.06-.94 2.06-2.06.94z\"/><path d=\"M17.41 7.96l-1.37-1.37c-.4-.4-.92-.59-1.43-.59-.52 0-1.04.2-1.43.59L10.3 9.45l-7.72 7.72c-.78.78-.78 2.05 0 2.83L4 21.41c.39.39.9.59 1.41.59.51 0 1.02-.2 1.41-.59l7.78-7.78 2.81-2.81c.8-.78.8-2.07 0-2.86zM5.41 20L4 18.59l7.72-7.72 1.47 1.35L5.41 20z\"/>\n",
              "  </svg>\n",
              "      </button>\n",
              "      \n",
              "  <style>\n",
              "    .colab-df-container {\n",
              "      display:flex;\n",
              "      flex-wrap:wrap;\n",
              "      gap: 12px;\n",
              "    }\n",
              "\n",
              "    .colab-df-convert {\n",
              "      background-color: #E8F0FE;\n",
              "      border: none;\n",
              "      border-radius: 50%;\n",
              "      cursor: pointer;\n",
              "      display: none;\n",
              "      fill: #1967D2;\n",
              "      height: 32px;\n",
              "      padding: 0 0 0 0;\n",
              "      width: 32px;\n",
              "    }\n",
              "\n",
              "    .colab-df-convert:hover {\n",
              "      background-color: #E2EBFA;\n",
              "      box-shadow: 0px 1px 2px rgba(60, 64, 67, 0.3), 0px 1px 3px 1px rgba(60, 64, 67, 0.15);\n",
              "      fill: #174EA6;\n",
              "    }\n",
              "\n",
              "    [theme=dark] .colab-df-convert {\n",
              "      background-color: #3B4455;\n",
              "      fill: #D2E3FC;\n",
              "    }\n",
              "\n",
              "    [theme=dark] .colab-df-convert:hover {\n",
              "      background-color: #434B5C;\n",
              "      box-shadow: 0px 1px 3px 1px rgba(0, 0, 0, 0.15);\n",
              "      filter: drop-shadow(0px 1px 2px rgba(0, 0, 0, 0.3));\n",
              "      fill: #FFFFFF;\n",
              "    }\n",
              "  </style>\n",
              "\n",
              "      <script>\n",
              "        const buttonEl =\n",
              "          document.querySelector('#df-f76ff8cc-e708-41ac-8a97-3bf289af0ef9 button.colab-df-convert');\n",
              "        buttonEl.style.display =\n",
              "          google.colab.kernel.accessAllowed ? 'block' : 'none';\n",
              "\n",
              "        async function convertToInteractive(key) {\n",
              "          const element = document.querySelector('#df-f76ff8cc-e708-41ac-8a97-3bf289af0ef9');\n",
              "          const dataTable =\n",
              "            await google.colab.kernel.invokeFunction('convertToInteractive',\n",
              "                                                     [key], {});\n",
              "          if (!dataTable) return;\n",
              "\n",
              "          const docLinkHtml = 'Like what you see? Visit the ' +\n",
              "            '<a target=\"_blank\" href=https://colab.research.google.com/notebooks/data_table.ipynb>data table notebook</a>'\n",
              "            + ' to learn more about interactive tables.';\n",
              "          element.innerHTML = '';\n",
              "          dataTable['output_type'] = 'display_data';\n",
              "          await google.colab.output.renderOutput(dataTable, element);\n",
              "          const docLink = document.createElement('div');\n",
              "          docLink.innerHTML = docLinkHtml;\n",
              "          element.appendChild(docLink);\n",
              "        }\n",
              "      </script>\n",
              "    </div>\n",
              "  </div>\n",
              "  "
            ]
          },
          "metadata": {},
          "execution_count": 2
        }
      ]
    },
    {
      "cell_type": "code",
      "source": [
        "dataset.describe()"
      ],
      "metadata": {
        "colab": {
          "base_uri": "https://localhost:8080/",
          "height": 300
        },
        "id": "nZUQWDfQlaRV",
        "outputId": "f53fb8b7-9d93-4a41-ca9a-5a5cc704ed26"
      },
      "execution_count": 23,
      "outputs": [
        {
          "output_type": "execute_result",
          "data": {
            "text/plain": [
              "                DAU     Installs   Uninstalls      Signups    Referrals\n",
              "count     46.000000    46.000000    46.000000    46.000000    31.000000\n",
              "mean   17788.586957  5064.978261  5494.347826  2550.891304   770.161290\n",
              "std     4892.080923  1624.796773  1402.885078   991.987348   249.692891\n",
              "min    12042.000000  3074.000000  3815.000000  1363.000000   384.000000\n",
              "25%    13380.250000  3708.750000  4321.250000  1729.500000   543.500000\n",
              "50%    15059.500000  4479.500000  4738.000000  2065.500000   801.000000\n",
              "75%    23472.750000  6332.000000  6741.750000  3369.000000   961.000000\n",
              "max    25156.000000  8937.000000  8215.000000  4974.000000  1193.000000"
            ],
            "text/html": [
              "\n",
              "  <div id=\"df-96bbef9c-799b-43f4-863b-73c2194080a0\">\n",
              "    <div class=\"colab-df-container\">\n",
              "      <div>\n",
              "<style scoped>\n",
              "    .dataframe tbody tr th:only-of-type {\n",
              "        vertical-align: middle;\n",
              "    }\n",
              "\n",
              "    .dataframe tbody tr th {\n",
              "        vertical-align: top;\n",
              "    }\n",
              "\n",
              "    .dataframe thead th {\n",
              "        text-align: right;\n",
              "    }\n",
              "</style>\n",
              "<table border=\"1\" class=\"dataframe\">\n",
              "  <thead>\n",
              "    <tr style=\"text-align: right;\">\n",
              "      <th></th>\n",
              "      <th>DAU</th>\n",
              "      <th>Installs</th>\n",
              "      <th>Uninstalls</th>\n",
              "      <th>Signups</th>\n",
              "      <th>Referrals</th>\n",
              "    </tr>\n",
              "  </thead>\n",
              "  <tbody>\n",
              "    <tr>\n",
              "      <th>count</th>\n",
              "      <td>46.000000</td>\n",
              "      <td>46.000000</td>\n",
              "      <td>46.000000</td>\n",
              "      <td>46.000000</td>\n",
              "      <td>31.000000</td>\n",
              "    </tr>\n",
              "    <tr>\n",
              "      <th>mean</th>\n",
              "      <td>17788.586957</td>\n",
              "      <td>5064.978261</td>\n",
              "      <td>5494.347826</td>\n",
              "      <td>2550.891304</td>\n",
              "      <td>770.161290</td>\n",
              "    </tr>\n",
              "    <tr>\n",
              "      <th>std</th>\n",
              "      <td>4892.080923</td>\n",
              "      <td>1624.796773</td>\n",
              "      <td>1402.885078</td>\n",
              "      <td>991.987348</td>\n",
              "      <td>249.692891</td>\n",
              "    </tr>\n",
              "    <tr>\n",
              "      <th>min</th>\n",
              "      <td>12042.000000</td>\n",
              "      <td>3074.000000</td>\n",
              "      <td>3815.000000</td>\n",
              "      <td>1363.000000</td>\n",
              "      <td>384.000000</td>\n",
              "    </tr>\n",
              "    <tr>\n",
              "      <th>25%</th>\n",
              "      <td>13380.250000</td>\n",
              "      <td>3708.750000</td>\n",
              "      <td>4321.250000</td>\n",
              "      <td>1729.500000</td>\n",
              "      <td>543.500000</td>\n",
              "    </tr>\n",
              "    <tr>\n",
              "      <th>50%</th>\n",
              "      <td>15059.500000</td>\n",
              "      <td>4479.500000</td>\n",
              "      <td>4738.000000</td>\n",
              "      <td>2065.500000</td>\n",
              "      <td>801.000000</td>\n",
              "    </tr>\n",
              "    <tr>\n",
              "      <th>75%</th>\n",
              "      <td>23472.750000</td>\n",
              "      <td>6332.000000</td>\n",
              "      <td>6741.750000</td>\n",
              "      <td>3369.000000</td>\n",
              "      <td>961.000000</td>\n",
              "    </tr>\n",
              "    <tr>\n",
              "      <th>max</th>\n",
              "      <td>25156.000000</td>\n",
              "      <td>8937.000000</td>\n",
              "      <td>8215.000000</td>\n",
              "      <td>4974.000000</td>\n",
              "      <td>1193.000000</td>\n",
              "    </tr>\n",
              "  </tbody>\n",
              "</table>\n",
              "</div>\n",
              "      <button class=\"colab-df-convert\" onclick=\"convertToInteractive('df-96bbef9c-799b-43f4-863b-73c2194080a0')\"\n",
              "              title=\"Convert this dataframe to an interactive table.\"\n",
              "              style=\"display:none;\">\n",
              "        \n",
              "  <svg xmlns=\"http://www.w3.org/2000/svg\" height=\"24px\"viewBox=\"0 0 24 24\"\n",
              "       width=\"24px\">\n",
              "    <path d=\"M0 0h24v24H0V0z\" fill=\"none\"/>\n",
              "    <path d=\"M18.56 5.44l.94 2.06.94-2.06 2.06-.94-2.06-.94-.94-2.06-.94 2.06-2.06.94zm-11 1L8.5 8.5l.94-2.06 2.06-.94-2.06-.94L8.5 2.5l-.94 2.06-2.06.94zm10 10l.94 2.06.94-2.06 2.06-.94-2.06-.94-.94-2.06-.94 2.06-2.06.94z\"/><path d=\"M17.41 7.96l-1.37-1.37c-.4-.4-.92-.59-1.43-.59-.52 0-1.04.2-1.43.59L10.3 9.45l-7.72 7.72c-.78.78-.78 2.05 0 2.83L4 21.41c.39.39.9.59 1.41.59.51 0 1.02-.2 1.41-.59l7.78-7.78 2.81-2.81c.8-.78.8-2.07 0-2.86zM5.41 20L4 18.59l7.72-7.72 1.47 1.35L5.41 20z\"/>\n",
              "  </svg>\n",
              "      </button>\n",
              "      \n",
              "  <style>\n",
              "    .colab-df-container {\n",
              "      display:flex;\n",
              "      flex-wrap:wrap;\n",
              "      gap: 12px;\n",
              "    }\n",
              "\n",
              "    .colab-df-convert {\n",
              "      background-color: #E8F0FE;\n",
              "      border: none;\n",
              "      border-radius: 50%;\n",
              "      cursor: pointer;\n",
              "      display: none;\n",
              "      fill: #1967D2;\n",
              "      height: 32px;\n",
              "      padding: 0 0 0 0;\n",
              "      width: 32px;\n",
              "    }\n",
              "\n",
              "    .colab-df-convert:hover {\n",
              "      background-color: #E2EBFA;\n",
              "      box-shadow: 0px 1px 2px rgba(60, 64, 67, 0.3), 0px 1px 3px 1px rgba(60, 64, 67, 0.15);\n",
              "      fill: #174EA6;\n",
              "    }\n",
              "\n",
              "    [theme=dark] .colab-df-convert {\n",
              "      background-color: #3B4455;\n",
              "      fill: #D2E3FC;\n",
              "    }\n",
              "\n",
              "    [theme=dark] .colab-df-convert:hover {\n",
              "      background-color: #434B5C;\n",
              "      box-shadow: 0px 1px 3px 1px rgba(0, 0, 0, 0.15);\n",
              "      filter: drop-shadow(0px 1px 2px rgba(0, 0, 0, 0.3));\n",
              "      fill: #FFFFFF;\n",
              "    }\n",
              "  </style>\n",
              "\n",
              "      <script>\n",
              "        const buttonEl =\n",
              "          document.querySelector('#df-96bbef9c-799b-43f4-863b-73c2194080a0 button.colab-df-convert');\n",
              "        buttonEl.style.display =\n",
              "          google.colab.kernel.accessAllowed ? 'block' : 'none';\n",
              "\n",
              "        async function convertToInteractive(key) {\n",
              "          const element = document.querySelector('#df-96bbef9c-799b-43f4-863b-73c2194080a0');\n",
              "          const dataTable =\n",
              "            await google.colab.kernel.invokeFunction('convertToInteractive',\n",
              "                                                     [key], {});\n",
              "          if (!dataTable) return;\n",
              "\n",
              "          const docLinkHtml = 'Like what you see? Visit the ' +\n",
              "            '<a target=\"_blank\" href=https://colab.research.google.com/notebooks/data_table.ipynb>data table notebook</a>'\n",
              "            + ' to learn more about interactive tables.';\n",
              "          element.innerHTML = '';\n",
              "          dataTable['output_type'] = 'display_data';\n",
              "          await google.colab.output.renderOutput(dataTable, element);\n",
              "          const docLink = document.createElement('div');\n",
              "          docLink.innerHTML = docLinkHtml;\n",
              "          element.appendChild(docLink);\n",
              "        }\n",
              "      </script>\n",
              "    </div>\n",
              "  </div>\n",
              "  "
            ]
          },
          "metadata": {},
          "execution_count": 23
        }
      ]
    },
    {
      "cell_type": "code",
      "source": [
        "#create another dataset\n",
        "df=dataset[:31]\n",
        "print(df.head(5),df.tail(5))"
      ],
      "metadata": {
        "colab": {
          "base_uri": "https://localhost:8080/",
          "height": 0
        },
        "id": "52bYXNasfShW",
        "outputId": "5e593b99-3753-4903-baa5-86cc287d12a6"
      },
      "execution_count": 22,
      "outputs": [
        {
          "output_type": "stream",
          "name": "stdout",
          "text": [
            "         Date    DAU  Installs  Uninstalls  Signups  Referrals\n",
            "0  2022-10-01  24071      6630        6994     3511      962.0\n",
            "1  2022-10-02  23548      6366        6669     3387      941.0\n",
            "2  2022-10-03  24572      6936        6899     3654      940.0\n",
            "3  2022-10-04  24212      6561        6766     3532      960.0\n",
            "4  2022-10-05  23247      6059        6402     3315      923.0           Date    DAU  Installs  Uninstalls  Signups  Referrals\n",
            "26  2022-10-27  14896      3707        4563     1905      551.0\n",
            "27  2022-10-28  14473      3735        4381     1799      555.0\n",
            "28  2022-10-29  13390      4072        4695     1872      536.0\n",
            "29  2022-10-30  13370      3543        4343     1942      573.0\n",
            "30  2022-10-31  13236      3313        4057     1562      419.0\n"
          ]
        }
      ]
    },
    {
      "cell_type": "markdown",
      "source": [
        "Correlation: \n",
        "Correlation helps to constitute the connection between the two variables."
      ],
      "metadata": {
        "id": "Pa1qtk5Tlwsc"
      }
    },
    {
      "cell_type": "code",
      "source": [
        "correlations = df.corr()\n",
        "# plot correlation matrix\n",
        "fig = plt.figure()\n",
        "ax = fig.add_subplot(111)\n",
        "cax = ax.matshow(correlations, vmin=-1, vmax=1)\n",
        "fig.colorbar(cax,)\n",
        "ticks = np.arange(0,6,1)\n",
        "ax.set_xticks(ticks)\n",
        "ax.set_yticks(ticks)\n",
        "ax.set_xticklabels(df.columns)\n",
        "ax.set_yticklabels(df.columns)\n",
        "plt.show()"
      ],
      "metadata": {
        "colab": {
          "base_uri": "https://localhost:8080/",
          "height": 494
        },
        "id": "2V-BtU5dfDep",
        "outputId": "d8bf053c-d72e-4be6-c940-c223c6e59872"
      },
      "execution_count": 4,
      "outputs": [
        {
          "output_type": "stream",
          "name": "stderr",
          "text": [
            "<ipython-input-4-a788f337f292>:1: FutureWarning: The default value of numeric_only in DataFrame.corr is deprecated. In a future version, it will default to False. Select only valid columns or specify the value of numeric_only to silence this warning.\n",
            "  correlations = df.corr()\n"
          ]
        },
        {
          "output_type": "display_data",
          "data": {
            "text/plain": [
              "<Figure size 640x480 with 2 Axes>"
            ],
            "image/png": "[encoded data removed]"
          },
          "metadata": {}
        }
      ]
    },
    {
      "cell_type": "code",
      "source": [
        "X=df.iloc[:,1:-1].values\n",
        "X"
      ],
      "metadata": {
        "colab": {
          "base_uri": "https://localhost:8080/",
          "height": 0
        },
        "id": "lk2gOG2Zf2Y_",
        "outputId": "6e7fffbe-afcc-4575-8aa5-60f264c00997"
      },
      "execution_count": 5,
      "outputs": [
        {
          "output_type": "execute_result",
          "data": {
            "text/plain": [
              "array([[24071,  6630,  6994,  3511],\n",
              "       [23548,  6366,  6669,  3387],\n",
              "       [24572,  6936,  6899,  3654],\n",
              "       [24212,  6561,  6766,  3532],\n",
              "       [23247,  6059,  6402,  3315],\n",
              "       [24330,  6230,  6780,  3288],\n",
              "       [24213,  6925,  7073,  3562],\n",
              "       [25099,  7826,  7790,  4110],\n",
              "       [24099,  8937,  8149,  4114],\n",
              "       [25156,  8139,  8215,  4974],\n",
              "       [24497,  7308,  7532,  4347],\n",
              "       [24152,  8020,  7867,  4404],\n",
              "       [24094,  7097,  7081,  4211],\n",
              "       [21589,  6729,  7065,  3494],\n",
              "       [20829,  5659,  6519,  2967],\n",
              "       [22222,  5861,  6552,  3096],\n",
              "       [20943,  5860,  6455,  2828],\n",
              "       [20180,  6070,  6611,  2559],\n",
              "       [19737,  5267,  6102,  2278],\n",
              "       [20148,  5467,  6125,  2854],\n",
              "       [17343,  3845,  4916,  1726],\n",
              "       [16270,  3703,  4727,  1705],\n",
              "       [15223,  3397,  4314,  1545],\n",
              "       [13482,  3074,  3904,  1363],\n",
              "       [14244,  3714,  4541,  1658],\n",
              "       [14659,  3885,  4564,  1740],\n",
              "       [14896,  3707,  4563,  1905],\n",
              "       [14473,  3735,  4381,  1799],\n",
              "       [13390,  4072,  4695,  1872],\n",
              "       [13370,  3543,  4343,  1942],\n",
              "       [13236,  3313,  4057,  1562]])"
            ]
          },
          "metadata": {},
          "execution_count": 5
        }
      ]
    },
    {
      "cell_type": "code",
      "source": [
        "Y=df.iloc[:,-1].values\n",
        "Y"
      ],
      "metadata": {
        "colab": {
          "base_uri": "https://localhost:8080/",
          "height": 0
        },
        "id": "tdk3LObbgXVF",
        "outputId": "030e82f3-6f49-48f1-8293-ada1078b2056"
      },
      "execution_count": 6,
      "outputs": [
        {
          "output_type": "execute_result",
          "data": {
            "text/plain": [
              "array([ 962.,  941.,  940.,  960.,  923.,  822.,  957.,  994., 1016.,\n",
              "       1186., 1161., 1193.,  987.,  860.,  772., 1052.,  801.,  572.,\n",
              "        606.,  700.,  512.,  530.,  484.,  384.,  435.,  491.,  551.,\n",
              "        555.,  536.,  573.,  419.])"
            ]
          },
          "metadata": {},
          "execution_count": 6
        }
      ]
    },
    {
      "cell_type": "markdown",
      "source": [
        "Importing Sklearn Libraries for multiple regression"
      ],
      "metadata": {
        "id": "7Jfoq5ZhmUzs"
      }
    },
    {
      "cell_type": "code",
      "source": [
        "from sklearn.model_selection import train_test_split\n",
        "from sklearn.linear_model import LinearRegression"
      ],
      "metadata": {
        "id": "RZrKLEUygsot"
      },
      "execution_count": 7,
      "outputs": []
    },
    {
      "cell_type": "code",
      "source": [
        "#create training and test samples with 70/30 split ration between train and test \n",
        "X_train,X_test,y_train,y_test=train_test_split(X,Y,test_size=0.30,random_state=0)"
      ],
      "metadata": {
        "id": "P35ovDAdgvIF"
      },
      "execution_count": 8,
      "outputs": []
    },
    {
      "cell_type": "code",
      "source": [
        "print(X_train.shape,y_train.shape)\n",
        "print(X_test.shape,y_test.shape)"
      ],
      "metadata": {
        "colab": {
          "base_uri": "https://localhost:8080/",
          "height": 0
        },
        "id": "ntGcmv2Pg24N",
        "outputId": "561636a2-76e5-493e-907f-83de39b2653d"
      },
      "execution_count": 9,
      "outputs": [
        {
          "output_type": "stream",
          "name": "stdout",
          "text": [
            "(21, 4) (21,)\n",
            "(10, 4) (10,)\n"
          ]
        }
      ]
    },
    {
      "cell_type": "code",
      "source": [
        "#Train the Linear Regression model on training dataset\n",
        "lr = LinearRegression().fit(X_train, y_train)"
      ],
      "metadata": {
        "id": "_R4XrvHEhSok"
      },
      "execution_count": 10,
      "outputs": []
    },
    {
      "cell_type": "code",
      "source": [
        "lr"
      ],
      "metadata": {
        "colab": {
          "base_uri": "https://localhost:8080/",
          "height": 74
        },
        "id": "oUX0WdRzhUAY",
        "outputId": "47a3e8fe-318d-4be5-a998-dcb54727c012"
      },
      "execution_count": 11,
      "outputs": [
        {
          "output_type": "execute_result",
          "data": {
            "text/plain": [
              "LinearRegression()"
            ],
            "text/html": [
              "<style>#sk-container-id-1 {color: black;background-color: white;}#sk-container-id-1 pre{padding: 0;}#sk-container-id-1 div.sk-toggleable {background-color: white;}#sk-container-id-1 label.sk-toggleable__label {cursor: pointer;display: block;width: 100%;margin-bottom: 0;padding: 0.3em;box-sizing: border-box;text-align: center;}#sk-container-id-1 label.sk-toggleable__label-arrow:before {content: \"▸\";float: left;margin-right: 0.25em;color: #696969;}#sk-container-id-1 label.sk-toggleable__label-arrow:hover:before {color: black;}#sk-container-id-1 div.sk-estimator:hover label.sk-toggleable__label-arrow:before {color: black;}#sk-container-id-1 div.sk-toggleable__content {max-height: 0;max-width: 0;overflow: hidden;text-align: left;background-color: #f0f8ff;}#sk-container-id-1 div.sk-toggleable__content pre {margin: 0.2em;color: black;border-radius: 0.25em;background-color: #f0f8ff;}#sk-container-id-1 input.sk-toggleable__control:checked~div.sk-toggleable__content {max-height: 200px;max-width: 100%;overflow: auto;}#sk-container-id-1 input.sk-toggleable__control:checked~label.sk-toggleable__label-arrow:before {content: \"▾\";}#sk-container-id-1 div.sk-estimator input.sk-toggleable__control:checked~label.sk-toggleable__label {background-color: #d4ebff;}#sk-container-id-1 div.sk-label input.sk-toggleable__control:checked~label.sk-toggleable__label {background-color: #d4ebff;}#sk-container-id-1 input.sk-hidden--visually {border: 0;clip: rect(1px 1px 1px 1px);clip: rect(1px, 1px, 1px, 1px);height: 1px;margin: -1px;overflow: hidden;padding: 0;position: absolute;width: 1px;}#sk-container-id-1 div.sk-estimator {font-family: monospace;background-color: #f0f8ff;border: 1px dotted black;border-radius: 0.25em;box-sizing: border-box;margin-bottom: 0.5em;}#sk-container-id-1 div.sk-estimator:hover {background-color: #d4ebff;}#sk-container-id-1 div.sk-parallel-item::after {content: \"\";width: 100%;border-bottom: 1px solid gray;flex-grow: 1;}#sk-container-id-1 div.sk-label:hover label.sk-toggleable__label {background-color: #d4ebff;}#sk-container-id-1 div.sk-serial::before {content: \"\";position: absolute;border-left: 1px solid gray;box-sizing: border-box;top: 0;bottom: 0;left: 50%;z-index: 0;}#sk-container-id-1 div.sk-serial {display: flex;flex-direction: column;align-items: center;background-color: white;padding-right: 0.2em;padding-left: 0.2em;position: relative;}#sk-container-id-1 div.sk-item {position: relative;z-index: 1;}#sk-container-id-1 div.sk-parallel {display: flex;align-items: stretch;justify-content: center;background-color: white;position: relative;}#sk-container-id-1 div.sk-item::before, #sk-container-id-1 div.sk-parallel-item::before {content: \"\";position: absolute;border-left: 1px solid gray;box-sizing: border-box;top: 0;bottom: 0;left: 50%;z-index: -1;}#sk-container-id-1 div.sk-parallel-item {display: flex;flex-direction: column;z-index: 1;position: relative;background-color: white;}#sk-container-id-1 div.sk-parallel-item:first-child::after {align-self: flex-end;width: 50%;}#sk-container-id-1 div.sk-parallel-item:last-child::after {align-self: flex-start;width: 50%;}#sk-container-id-1 div.sk-parallel-item:only-child::after {width: 0;}#sk-container-id-1 div.sk-dashed-wrapped {border: 1px dashed gray;margin: 0 0.4em 0.5em 0.4em;box-sizing: border-box;padding-bottom: 0.4em;background-color: white;}#sk-container-id-1 div.sk-label label {font-family: monospace;font-weight: bold;display: inline-block;line-height: 1.2em;}#sk-container-id-1 div.sk-label-container {text-align: center;}#sk-container-id-1 div.sk-container {/* jupyter's `normalize.less` sets `[hidden] { display: none; }` but bootstrap.min.css set `[hidden] { display: none !important; }` so we also need the `!important` here to be able to override the default hidden behavior on the sphinx rendered scikit-learn.org. See: https://github.com/scikit-learn/scikit-learn/issues/21755 */display: inline-block !important;position: relative;}#sk-container-id-1 div.sk-text-repr-fallback {display: none;}</style><div id=\"sk-container-id-1\" class=\"sk-top-container\"><div class=\"sk-text-repr-fallback\"><pre>LinearRegression()</pre><b>In a Jupyter environment, please rerun this cell to show the HTML representation or trust the notebook. <br />On GitHub, the HTML representation is unable to render, please try loading this page with nbviewer.org.</b></div><div class=\"sk-container\" hidden><div class=\"sk-item\"><div class=\"sk-estimator sk-toggleable\"><input class=\"sk-toggleable__control sk-hidden--visually\" id=\"sk-estimator-id-1\" type=\"checkbox\" checked><label for=\"sk-estimator-id-1\" class=\"sk-toggleable__label sk-toggleable__label-arrow\">LinearRegression</label><div class=\"sk-toggleable__content\"><pre>LinearRegression()</pre></div></div></div></div></div>"
            ]
          },
          "metadata": {},
          "execution_count": 11
        }
      ]
    },
    {
      "cell_type": "code",
      "source": [
        "#the coefficients value for the input variables ( B1,B2,B3,B4)\n",
        "lr.coef_"
      ],
      "metadata": {
        "colab": {
          "base_uri": "https://localhost:8080/",
          "height": 0
        },
        "id": "8Tqv4ClXhT09",
        "outputId": "e62a6e42-2d7e-4db0-977b-59e4608d54f2"
      },
      "execution_count": 12,
      "outputs": [
        {
          "output_type": "execute_result",
          "data": {
            "text/plain": [
              "array([ 0.01929365, -0.02170285,  0.00976313,  0.17059049])"
            ]
          },
          "metadata": {},
          "execution_count": 12
        }
      ]
    },
    {
      "cell_type": "code",
      "source": [
        "#The intercept value B0( the value of output when all input variables are zero )\n",
        "lr.intercept_"
      ],
      "metadata": {
        "colab": {
          "base_uri": "https://localhost:8080/",
          "height": 0
        },
        "id": "prsGM78_hdx2",
        "outputId": "bd69faa3-1125-4b5a-d589-8df8c10b86e0"
      },
      "execution_count": 13,
      "outputs": [
        {
          "output_type": "execute_result",
          "data": {
            "text/plain": [
              "-49.55749199964373"
            ]
          },
          "metadata": {},
          "execution_count": 13
        }
      ]
    },
    {
      "cell_type": "code",
      "source": [
        "#print the results of the model on train dataset\n",
        "print(\" The accuracy of model on training dataset is {:.4f} \".format(lr.score(X_train,y_train)))"
      ],
      "metadata": {
        "colab": {
          "base_uri": "https://localhost:8080/",
          "height": 0
        },
        "id": "QTz6BquShjPt",
        "outputId": "99787fa8-f203-41be-d2a8-5d32aa756f79"
      },
      "execution_count": 14,
      "outputs": [
        {
          "output_type": "stream",
          "name": "stdout",
          "text": [
            " The accuracy of model on training dataset is 0.9282 \n"
          ]
        }
      ]
    },
    {
      "cell_type": "code",
      "source": [
        "#print the result of the model on test dataset\n",
        "print(\" The accuracy of model on test dataset is {:.4f} \".format(lr.score(X_test,y_test)))"
      ],
      "metadata": {
        "colab": {
          "base_uri": "https://localhost:8080/",
          "height": 0
        },
        "id": "PZ1D6xishm9d",
        "outputId": "96e0831a-91e8-40ec-d5be-d47dd3b85250"
      },
      "execution_count": 15,
      "outputs": [
        {
          "output_type": "stream",
          "name": "stdout",
          "text": [
            " The accuracy of model on test dataset is 0.9350 \n"
          ]
        }
      ]
    },
    {
      "cell_type": "code",
      "source": [
        "y_pred = lr.predict(X_test)\n",
        "print(y_pred,y_test)\n",
        "np.set_printoptions(precision=2)\n",
        "print(np.concatenate((y_pred.reshape(len(y_pred),1), y_test.reshape(len(y_test),1)),1))"
      ],
      "metadata": {
        "colab": {
          "base_uri": "https://localhost:8080/",
          "height": 0
        },
        "id": "dDaFcnpYjXOE",
        "outputId": "1efcef0c-15fb-4dca-a4f8-527d43d9cb73"
      },
      "execution_count": 16,
      "outputs": [
        {
          "output_type": "stream",
          "name": "stdout",
          "text": [
            "[ 964.6887115   505.1934808   885.95443683 1079.56750468  498.28399115\n",
            "  490.33899768  476.10567643 1070.45307641  709.13728134  414.47509277] [ 940.  573.  860. 1161.  555.  491.  484. 1193.  572.  384.]\n",
            "[[ 964.69  940.  ]\n",
            " [ 505.19  573.  ]\n",
            " [ 885.95  860.  ]\n",
            " [1079.57 1161.  ]\n",
            " [ 498.28  555.  ]\n",
            " [ 490.34  491.  ]\n",
            " [ 476.11  484.  ]\n",
            " [1070.45 1193.  ]\n",
            " [ 709.14  572.  ]\n",
            " [ 414.48  384.  ]]\n"
          ]
        }
      ]
    },
    {
      "cell_type": "code",
      "source": [
        "import statsmodels.api as sm\n",
        "from scipy import stats"
      ],
      "metadata": {
        "id": "pcChzE6FhpWW"
      },
      "execution_count": 17,
      "outputs": []
    },
    {
      "cell_type": "code",
      "source": [
        "#create training and test samples with 70/30 split ration between train and test \n",
        "X_train,X_test,y_train,y_test=train_test_split(X,Y,test_size=0.30,random_state=0)\n",
        "X_train=sm.add_constant(X_train)\n",
        "ols_model = sm.OLS(y_train, X_train)\n",
        "result = ols_model.fit()\n",
        "print(result.summary())"
      ],
      "metadata": {
        "colab": {
          "base_uri": "https://localhost:8080/",
          "height": 0
        },
        "id": "y8Lsw4jJiGFR",
        "outputId": "f7220a72-bc1e-484b-dc20-33ac0cd2aaee"
      },
      "execution_count": 18,
      "outputs": [
        {
          "output_type": "stream",
          "name": "stdout",
          "text": [
            "                            OLS Regression Results                            \n",
            "==============================================================================\n",
            "Dep. Variable:                      y   R-squared:                       0.928\n",
            "Model:                            OLS   Adj. R-squared:                  0.910\n",
            "Method:                 Least Squares   F-statistic:                     51.72\n",
            "Date:                Sun, 16 Apr 2023   Prob (F-statistic):           5.95e-09\n",
            "Time:                        05:38:14   Log-Likelihood:                -115.82\n",
            "No. Observations:                  21   AIC:                             241.6\n",
            "Df Residuals:                      16   BIC:                             246.9\n",
            "Df Model:                           4                                         \n",
            "Covariance Type:            nonrobust                                         \n",
            "==============================================================================\n",
            "                 coef    std err          t      P>|t|      [0.025      0.975]\n",
            "------------------------------------------------------------------------------\n",
            "const        -49.5575    165.768     -0.299      0.769    -400.971     301.856\n",
            "x1             0.0193      0.013      1.539      0.143      -0.007       0.046\n",
            "x2            -0.0217      0.065     -0.334      0.743      -0.159       0.116\n",
            "x3             0.0098      0.098      0.100      0.922      -0.197       0.217\n",
            "x4             0.1706      0.062      2.755      0.014       0.039       0.302\n",
            "==============================================================================\n",
            "Omnibus:                       19.224   Durbin-Watson:                   2.393\n",
            "Prob(Omnibus):                  0.000   Jarque-Bera (JB):               25.613\n",
            "Skew:                           1.651   Prob(JB):                     2.74e-06\n",
            "Kurtosis:                       7.286   Cond. No.                     2.54e+05\n",
            "==============================================================================\n",
            "\n",
            "Notes:\n",
            "[1] Standard Errors assume that the covariance matrix of the errors is correctly specified.\n",
            "[2] The condition number is large, 2.54e+05. This might indicate that there are\n",
            "strong multicollinearity or other numerical problems.\n"
          ]
        }
      ]
    },
    {
      "cell_type": "code",
      "source": [
        "x_new = dataset.iloc[31:, 1:-1].values\n",
        "x_new"
      ],
      "metadata": {
        "colab": {
          "base_uri": "https://localhost:8080/",
          "height": 0
        },
        "id": "fm0e8ETZWFNm",
        "outputId": "0c19a0c9-822e-4e11-dc83-6f72da8d11e2"
      },
      "execution_count": 19,
      "outputs": [
        {
          "output_type": "execute_result",
          "data": {
            "text/plain": [
              "array([[12816,  3763,  4149,  1806],\n",
              "       [12812,  3087,  3868,  1550],\n",
              "       [12042,  3176,  3815,  1410],\n",
              "       [12595,  3172,  3878,  1629],\n",
              "       [12361,  3390,  4021,  1578],\n",
              "       [13166,  3441,  4071,  1656],\n",
              "       [12565,  3468,  4011,  1556],\n",
              "       [12988,  4468,  4143,  1808],\n",
              "       [12992,  4491,  4638,  2017],\n",
              "       [13377,  4261,  4480,  1997],\n",
              "       [13826,  4274,  4512,  2047],\n",
              "       [13464,  4660,  4856,  2066],\n",
              "       [13415,  4416,  4749,  2147],\n",
              "       [13873,  4097,  4305,  2065],\n",
              "       [14459,  4890,  4593,  2707]])"
            ]
          },
          "metadata": {},
          "execution_count": 19
        }
      ]
    },
    {
      "cell_type": "code",
      "source": [
        "y_new = lr.predict(x_new)\n",
        "y_new"
      ],
      "metadata": {
        "colab": {
          "base_uri": "https://localhost:8080/",
          "height": 0
        },
        "id": "Ut-rdFqDWD1P",
        "outputId": "35f35910-a140-4979-c4a1-9d4479cc1c7d"
      },
      "execution_count": 20,
      "outputs": [
        {
          "output_type": "execute_result",
          "data": {
            "text/plain": [
              "array([464.64, 432.82, 391.63, 440.36, 423.81, 452.03, 422.2 , 452.94,\n",
              "       493.  , 500.47, 517.69, 508.93, 526.05, 523.49, 629.91])"
            ]
          },
          "metadata": {},
          "execution_count": 20
        }
      ]
    },
    {
      "cell_type": "code",
      "source": [
        "y_new = lr.predict(x_new)\n",
        "print(np.rint(y_new.reshape(len(y_new),1)))"
      ],
      "metadata": {
        "colab": {
          "base_uri": "https://localhost:8080/",
          "height": 0
        },
        "id": "3JzFM0VQiSSZ",
        "outputId": "3528e537-b61b-4d70-925f-7bee6d6cab50"
      },
      "execution_count": 21,
      "outputs": [
        {
          "output_type": "stream",
          "name": "stdout",
          "text": [
            "[[465.]\n",
            " [433.]\n",
            " [392.]\n",
            " [440.]\n",
            " [424.]\n",
            " [452.]\n",
            " [422.]\n",
            " [453.]\n",
            " [493.]\n",
            " [500.]\n",
            " [518.]\n",
            " [509.]\n",
            " [526.]\n",
            " [523.]\n",
            " [630.]]\n"
          ]
        }
      ]
    }
  ]
}